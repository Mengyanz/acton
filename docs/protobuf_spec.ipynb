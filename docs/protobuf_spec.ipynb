{
 "cells": [
  {
   "cell_type": "markdown",
   "metadata": {},
   "source": [
    "# Protobuf Serialisation\n",
    "\n",
    "This notebook documents how Acton serialises protobufs.\n",
    "\n",
    "Protobufs can be serialised and deserialised individually using the built-in methods `SerializeToString` and `ParseFromString`:"
   ]
  },
  {
   "cell_type": "code",
   "execution_count": null,
   "metadata": {
    "collapsed": true
   },
   "outputs": [],
   "source": [
    "# Serialising.\n",
    "with open(path, 'wb') as proto_file:\n",
    "    proto_file.write(proto.SerializeToString())"
   ]
  },
  {
   "cell_type": "code",
   "execution_count": null,
   "metadata": {
    "collapsed": true
   },
   "outputs": [],
   "source": [
    "# Deserialising. (from acton.proto.io)\n",
    "proto = Proto()\n",
    "with open(path, 'rb') as proto_file:\n",
    "    proto.ParseFromString(proto_file.read())"
   ]
  },
  {
   "cell_type": "markdown",
   "metadata": {},
   "source": [
    "To serialise multiple protobufs into one file, we serialise each to a string, write the length of this string to a file, then write the string to the file. The length is needed because protobufs are not self-delimiting. We use an unsigned long long with the `struct` library to store the length."
   ]
  },
  {
   "cell_type": "code",
   "execution_count": null,
   "metadata": {
    "collapsed": true
   },
   "outputs": [],
   "source": [
    "for proto in protos:\n",
    "    proto = proto.SerializeToString()\n",
    "    length = struct.pack('<Q', len(proto))\n",
    "    proto_file.write(length)\n",
    "    proto_file.write(proto)"
   ]
  },
  {
   "cell_type": "markdown",
   "metadata": {},
   "source": [
    "We also want to store metadata in the resulting file. This is achieved by encoding the metadata as a bytestring and writing it before we write any protobufs. As with protobufs, we must store the length of the metadata before the metadata itself, and we again use an unsigned long long.\n",
    "\n",
    "Reading the files back in is the inverse of the above; we simply unpack instead of packing and call `ParseFromString`."
   ]
  },
  {
   "cell_type": "code",
   "execution_count": null,
   "metadata": {
    "collapsed": false
   },
   "outputs": [],
   "source": [
    "length = proto_file.read(8)  # 8 = long long\n",
    "while length:\n",
    "    length, = struct.unpack('<Q', length)\n",
    "    proto = Proto()\n",
    "    proto.ParseFromString(proto_file.read(length))\n",
    "    length = proto_file.read(8)"
   ]
  }
 ],
 "metadata": {
  "kernelspec": {
   "display_name": "Python 3",
   "language": "python",
   "name": "python3"
  },
  "language_info": {
   "codemirror_mode": {
    "name": "ipython",
    "version": 3
   },
   "file_extension": ".py",
   "mimetype": "text/x-python",
   "name": "python",
   "nbconvert_exporter": "python",
   "pygments_lexer": "ipython3",
   "version": "3.4.0"
  }
 },
 "nbformat": 4,
 "nbformat_minor": 0
}
